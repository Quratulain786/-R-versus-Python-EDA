{
  "cells": [
    {
      "cell_type": "markdown",
      "metadata": {
        "id": "view-in-github",
        "colab_type": "text"
      },
      "source": [
        "<a href=\"https://colab.research.google.com/github/Quratulain786/-R-versus-Python-EDA/blob/main/loss_or_cost_function.ipynb\" target=\"_parent\"><img src=\"https://colab.research.google.com/assets/colab-badge.svg\" alt=\"Open In Colab\"/></a>"
      ]
    },
    {
      "cell_type": "code",
      "execution_count": null,
      "metadata": {
        "id": "oPw6QycbypwU"
      },
      "outputs": [],
      "source": [
        "import numpy as np"
      ]
    },
    {
      "cell_type": "code",
      "execution_count": null,
      "metadata": {
        "id": "zznyOq6uypwW"
      },
      "outputs": [],
      "source": [
        "y_predicted = np.array([1,1,0,0,1])\n",
        "y_true = np.array([0.30,0.7,1,0,0.5])\n"
      ]
    },
    {
      "cell_type": "markdown",
      "metadata": {
        "id": "L0Rzc5xZypwW"
      },
      "source": [
        "<h3 style='color:blue'>Implement Mean Absolute Error</h3>"
      ]
    },
    {
      "cell_type": "code",
      "execution_count": null,
      "metadata": {
        "id": "xyxOoNbJypwY"
      },
      "outputs": [],
      "source": [
        "def mae(y_predicted, y_true):\n",
        "    total_error = 0\n",
        "    for yp, yt in zip(y_predicted, y_true):\n",
        "        total_error += abs(yp - yt)\n",
        "    print(\"Total error is:\",total_error)\n",
        "    mae = total_error/len(y_predicted)\n",
        "    print(\"Mean absolute error is:\",mae)\n",
        "    return mae\n"
      ]
    },
    {
      "cell_type": "code",
      "execution_count": null,
      "metadata": {
        "scrolled": true,
        "id": "IdxITL6VypwY",
        "outputId": "89f7291d-6d24-41ac-deba-c4ebdbee926b",
        "colab": {
          "base_uri": "https://localhost:8080/"
        }
      },
      "outputs": [
        {
          "output_type": "stream",
          "name": "stdout",
          "text": [
            "Total error is: 2.5\n",
            "Mean absolute error is: 0.5\n"
          ]
        },
        {
          "output_type": "execute_result",
          "data": {
            "text/plain": [
              "0.5"
            ]
          },
          "metadata": {},
          "execution_count": 4
        }
      ],
      "source": [
        "mae(y_predicted, y_true)"
      ]
    },
    {
      "cell_type": "markdown",
      "metadata": {
        "id": "thXPkzaVypwa"
      },
      "source": [
        "**Implement same thing using numpy in much easier way**"
      ]
    },
    {
      "cell_type": "code",
      "execution_count": null,
      "metadata": {
        "id": "F-Xb7xbQypwa",
        "outputId": "495a5fcc-4041-48dc-b070-1173aa5546e7",
        "colab": {
          "base_uri": "https://localhost:8080/"
        }
      },
      "outputs": [
        {
          "output_type": "execute_result",
          "data": {
            "text/plain": [
              "array([0.7, 0.3, 1. , 0. , 0.5])"
            ]
          },
          "metadata": {},
          "execution_count": 12
        }
      ],
      "source": [
        "np.abs(y_predicted-y_true)"
      ]
    },
    {
      "cell_type": "code",
      "execution_count": null,
      "metadata": {
        "id": "46DM8qcQypwa",
        "outputId": "1ae429f9-144d-46a7-ee34-516a49d1f04e",
        "colab": {
          "base_uri": "https://localhost:8080/"
        }
      },
      "outputs": [
        {
          "output_type": "execute_result",
          "data": {
            "text/plain": [
              "0.5"
            ]
          },
          "metadata": {},
          "execution_count": 13
        }
      ],
      "source": [
        "np.mean(np.abs(y_predicted-y_true))"
      ]
    },
    {
      "cell_type": "code",
      "execution_count": null,
      "metadata": {
        "id": "aWAQ6h-kypwb"
      },
      "outputs": [],
      "source": [
        "def mae_np(y_predicted, y_true):\n",
        "    return np.mean(np.abs(y_predicted-y_true))"
      ]
    },
    {
      "cell_type": "code",
      "execution_count": null,
      "metadata": {
        "scrolled": true,
        "id": "-1h05d7Gypwb",
        "outputId": "21e0f4a5-20a2-4505-de4e-672d0f6eab42",
        "colab": {
          "base_uri": "https://localhost:8080/"
        }
      },
      "outputs": [
        {
          "output_type": "execute_result",
          "data": {
            "text/plain": [
              "0.5"
            ]
          },
          "metadata": {},
          "execution_count": 15
        }
      ],
      "source": [
        "mae_np(y_predicted, y_true)"
      ]
    },
    {
      "cell_type": "markdown",
      "metadata": {
        "id": "gfuD-2AVypwb"
      },
      "source": [
        "<h3 style='color:blue'>Implement Log Loss or Binary Cross Entropy</h3>"
      ]
    },
    {
      "cell_type": "code",
      "execution_count": null,
      "metadata": {
        "id": "o0aItD4Jypwc",
        "outputId": "6e6764dd-47e9-4c6b-a361-f51e9cc8bc3c"
      },
      "outputs": [
        {
          "name": "stderr",
          "output_type": "stream",
          "text": [
            "C:\\Users\\Window\\AppData\\Local\\Temp\\ipykernel_19040\\262464415.py:1: RuntimeWarning: divide by zero encountered in log\n",
            "  np.log([0])\n"
          ]
        },
        {
          "data": {
            "text/plain": [
              "array([-inf])"
            ]
          },
          "execution_count": 9,
          "metadata": {},
          "output_type": "execute_result"
        }
      ],
      "source": [
        "np.log([0])"
      ]
    },
    {
      "cell_type": "code",
      "execution_count": null,
      "metadata": {
        "id": "qYkGA5Ukypwd"
      },
      "outputs": [],
      "source": [
        "epsilon = 1e-15"
      ]
    },
    {
      "cell_type": "code",
      "execution_count": null,
      "metadata": {
        "id": "tU5Bhqn3ypwd",
        "outputId": "8d80e5a9-4604-461b-bfe0-2da49d65725a"
      },
      "outputs": [
        {
          "data": {
            "text/plain": [
              "array([-34.53877639])"
            ]
          },
          "execution_count": 11,
          "metadata": {},
          "output_type": "execute_result"
        }
      ],
      "source": [
        "np.log([1e-15])"
      ]
    },
    {
      "cell_type": "code",
      "execution_count": null,
      "metadata": {
        "id": "RdRyXczbypwe",
        "outputId": "48903f4c-fb8a-4891-f95f-3eee0caa8b07"
      },
      "outputs": [
        {
          "data": {
            "text/plain": [
              "array([1, 1, 0, 0, 1])"
            ]
          },
          "execution_count": 61,
          "metadata": {},
          "output_type": "execute_result"
        }
      ],
      "source": [
        "y_predicted"
      ]
    },
    {
      "cell_type": "code",
      "execution_count": null,
      "metadata": {
        "scrolled": true,
        "id": "8tRyHAn0ypwe",
        "outputId": "6b90b4d0-a20a-4feb-81a0-32164d8dab58"
      },
      "outputs": [
        {
          "data": {
            "text/plain": [
              "[1, 1, 1e-15, 1e-15, 1]"
            ]
          },
          "execution_count": 68,
          "metadata": {},
          "output_type": "execute_result"
        }
      ],
      "source": [
        "y_predicted_new = [max(i,epsilon) for i in y_predicted]\n",
        "y_predicted_new"
      ]
    },
    {
      "cell_type": "code",
      "execution_count": null,
      "metadata": {
        "id": "SwNXx5EPypwf",
        "outputId": "447c2fbd-8d52-47a2-8259-b885fbf34256"
      },
      "outputs": [
        {
          "data": {
            "text/plain": [
              "0.999999999999999"
            ]
          },
          "execution_count": 70,
          "metadata": {},
          "output_type": "execute_result"
        }
      ],
      "source": [
        "1-epsilon"
      ]
    },
    {
      "cell_type": "code",
      "execution_count": null,
      "metadata": {
        "id": "Wi_IvLCcypwf",
        "outputId": "b9398b4f-7743-442a-c901-36cef355430f"
      },
      "outputs": [
        {
          "data": {
            "text/plain": [
              "[0.999999999999999, 0.999999999999999, 1e-15, 1e-15, 0.999999999999999]"
            ]
          },
          "execution_count": 69,
          "metadata": {},
          "output_type": "execute_result"
        }
      ],
      "source": [
        "y_predicted_new = [min(i,1-epsilon) for i in y_predicted_new]\n",
        "y_predicted_new"
      ]
    },
    {
      "cell_type": "code",
      "execution_count": null,
      "metadata": {
        "id": "FDOYi4dTypwf"
      },
      "outputs": [],
      "source": [
        "y_predicted_new = np.array(y_predicted_new)"
      ]
    },
    {
      "cell_type": "code",
      "execution_count": null,
      "metadata": {
        "id": "5Xqcgoznypwf",
        "outputId": "98dc3d44-c23a-4a72-f778-e35c5804fc45"
      },
      "outputs": [
        {
          "data": {
            "text/plain": [
              "array([-9.99200722e-16, -9.99200722e-16, -3.45387764e+01, -3.45387764e+01,\n",
              "       -9.99200722e-16])"
            ]
          },
          "execution_count": 71,
          "metadata": {},
          "output_type": "execute_result"
        }
      ],
      "source": [
        "np.log(y_predicted_new)"
      ]
    },
    {
      "cell_type": "code",
      "execution_count": null,
      "metadata": {
        "id": "K8fgIiU0ypwg",
        "outputId": "6c35801a-1423-4ba9-c9c4-23b387a615df"
      },
      "outputs": [
        {
          "data": {
            "text/plain": [
              "17.2696280766844"
            ]
          },
          "execution_count": 75,
          "metadata": {},
          "output_type": "execute_result"
        }
      ],
      "source": [
        "-np.mean(y_true*np.log(y_predicted_new)+(1-y_true)*np.log(1-y_predicted_new))"
      ]
    },
    {
      "cell_type": "code",
      "execution_count": null,
      "metadata": {
        "id": "LK8g6iS_ypwg"
      },
      "outputs": [],
      "source": [
        "def log_loss(y_true, y_predicted):\n",
        "    y_predicted_new = [max(i,epsilon) for i in y_predicted]\n",
        "    y_predicted_new = [min(i,1-epsilon) for i in y_predicted_new]\n",
        "    y_predicted_new = np.array(y_predicted_new)\n",
        "    return -np.mean(y_true*np.log(y_predicted_new)+(1-y_true)*np.log(1-y_predicted_new))"
      ]
    },
    {
      "cell_type": "code",
      "execution_count": null,
      "metadata": {
        "scrolled": true,
        "id": "ftK4WZLFypwg",
        "outputId": "ec611ee4-e689-4736-9edf-85c7f331b635"
      },
      "outputs": [
        {
          "data": {
            "text/plain": [
              "17.2696280766844"
            ]
          },
          "execution_count": 77,
          "metadata": {},
          "output_type": "execute_result"
        }
      ],
      "source": [
        "log_loss(y_true, y_predicted)"
      ]
    },
    {
      "cell_type": "markdown",
      "metadata": {
        "id": "UT2CjGuKypwh"
      },
      "source": [
        "<h3 style='color:purple'>Exercise</h3>"
      ]
    },
    {
      "cell_type": "markdown",
      "metadata": {
        "id": "lAXoJlxmypwh"
      },
      "source": [
        "Implement mean squared error (or MSE) in two ways,\n",
        "\n",
        "1) Without using numpy (i.e. using plain python)\n",
        "\n",
        "2) With the use of numpy"
      ]
    },
    {
      "cell_type": "markdown",
      "source": [
        "# **Without using numpy (i.e. using plain python)**"
      ],
      "metadata": {
        "id": "RpFt39P12d7U"
      }
    },
    {
      "cell_type": "code",
      "source": [
        " def mse(y_predicted, y_true):\n",
        "       total_error = 0\n",
        "       for yp, yt in zip(y_predicted, y_true):\n",
        "        total_error += (yp - yt)**2\n",
        "        print(\"Total error is:\",total_error)\n",
        "        mse = total_error/len(y_predicted)\n",
        "        print(\"Mean Squared error is:\",mse)\n",
        "        return mse"
      ],
      "metadata": {
        "id": "Y4YdetThzn6P"
      },
      "execution_count": null,
      "outputs": []
    },
    {
      "cell_type": "code",
      "source": [
        "y_predicted = np.array([11,11,10,10,11])\n",
        "y_true = np.array([20.30,0.27,11,10,10.5])\n",
        "\n",
        "mse(y_predicted, y_true)"
      ],
      "metadata": {
        "id": "_mf1DuX4z3-E",
        "outputId": "4428bb4e-cec7-4f70-bc92-106e145fe6e9",
        "colab": {
          "base_uri": "https://localhost:8080/"
        }
      },
      "execution_count": null,
      "outputs": [
        {
          "output_type": "stream",
          "name": "stdout",
          "text": [
            "Total error is: 86.49000000000001\n",
            "Mean Squared error is: 17.298000000000002\n"
          ]
        },
        {
          "output_type": "execute_result",
          "data": {
            "text/plain": [
              "17.298000000000002"
            ]
          },
          "metadata": {},
          "execution_count": 34
        }
      ]
    },
    {
      "cell_type": "markdown",
      "source": [
        "# **2) With the use of numpy**"
      ],
      "metadata": {
        "id": "FAvyiGt32pLo"
      }
    },
    {
      "cell_type": "code",
      "source": [
        "# use mean() and square() methods\n",
        "from sklearn.metrics import mean_squared_error\n",
        "# use mean_squared_error() function\n",
        "mse = mean_squared_error(y_true, y_pred)\n",
        "\n",
        "# print result\n",
        "print(\"MSE:\", mse)"
      ],
      "metadata": {
        "id": "aUGWNY3c0LM2"
      },
      "execution_count": null,
      "outputs": []
    },
    {
      "cell_type": "code",
      "source": [
        "mse"
      ],
      "metadata": {
        "id": "gFKb8Ou53YSd",
        "outputId": "0def2152-3e66-41e1-d614-ea24a1080677",
        "colab": {
          "base_uri": "https://localhost:8080/"
        }
      },
      "execution_count": null,
      "outputs": [
        {
          "output_type": "execute_result",
          "data": {
            "text/plain": [
              "40.574580000000005"
            ]
          },
          "metadata": {},
          "execution_count": 36
        }
      ]
    },
    {
      "cell_type": "code",
      "source": [
        "# import necessary libraries\n",
        "import pandas as pd\n",
        "from sklearn.metrics import mean_squared_error\n",
        "\n",
        "\n",
        "\n",
        "# use mean_squared_error() function\n",
        "mse = mean_squared_error(y_predicted, y_true)\n",
        "\n",
        "# print result\n",
        "print(\"MSE:\", mse)"
      ],
      "metadata": {
        "id": "zh4zWKXf3ZEu",
        "outputId": "6e0107d5-0bd5-4335-88cc-840bbc0130ff",
        "colab": {
          "base_uri": "https://localhost:8080/"
        }
      },
      "execution_count": null,
      "outputs": [
        {
          "output_type": "stream",
          "name": "stdout",
          "text": [
            "MSE: 40.574580000000005\n"
          ]
        }
      ]
    },
    {
      "cell_type": "code",
      "source": [
        "# using panda's mean()\n",
        "mse = ((y_predicted- y_true) ** 2).mean()\n",
        "\n",
        "# print result\n",
        "print(\"MSE:\", mse)"
      ],
      "metadata": {
        "id": "dZwBeufn4C7_",
        "outputId": "40b23a13-1488-407d-8a4b-8c356b1cc9a9",
        "colab": {
          "base_uri": "https://localhost:8080/"
        }
      },
      "execution_count": null,
      "outputs": [
        {
          "output_type": "stream",
          "name": "stdout",
          "text": [
            "MSE: 40.574580000000005\n"
          ]
        }
      ]
    },
    {
      "cell_type": "code",
      "source": [],
      "metadata": {
        "id": "sRxuSKpw4eXr"
      },
      "execution_count": null,
      "outputs": []
    }
  ],
  "metadata": {
    "kernelspec": {
      "display_name": "Python 3",
      "language": "python",
      "name": "python3"
    },
    "language_info": {
      "codemirror_mode": {
        "name": "ipython",
        "version": 3
      },
      "file_extension": ".py",
      "mimetype": "text/x-python",
      "name": "python",
      "nbconvert_exporter": "python",
      "pygments_lexer": "ipython3",
      "version": "3.10.8"
    },
    "colab": {
      "provenance": [],
      "include_colab_link": true
    }
  },
  "nbformat": 4,
  "nbformat_minor": 0
}